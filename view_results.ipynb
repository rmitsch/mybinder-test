{
 "cells": [
  {
   "cell_type": "code",
   "execution_count": 1,
   "metadata": {},
   "outputs": [],
   "source": [
    "import pandas as pd\n",
    "import qgrid"
   ]
  },
  {
   "cell_type": "code",
   "execution_count": 2,
   "metadata": {},
   "outputs": [],
   "source": [
    "df = pd.read_pickle(path=\"/home/raphael/Development/data/skope-confare/articles_with_superlinear_filter.pkl\")\n",
    "# Make links clickable.\n",
    "df.url = \"<a href=\" + df.url + \">\" + df.url + \"</a>\"\n",
    "# Force line breaks in text after sentence end (line wraps in qgrid apparently not possible w/o changes to \n",
    "# underlying JS library).\n",
    "df.text = df.text.str.replace(r\"([a-zA-Z]+\\.|\\?|!)(\\s|$)\", \"\\g<1><br>\")"
   ]
  },
  {
   "cell_type": "code",
   "execution_count": 3,
   "metadata": {},
   "outputs": [],
   "source": [
    "df = df[[\n",
    "    \"publish_date\", \n",
    "    \"source_name\", \n",
    "    \"url\", \n",
    "    \"title\", \n",
    "    \"text\", \n",
    "    \"company_primary_prob\", \n",
    "    \"company_primary\", \n",
    "    \"company_secondary_prob\", \n",
    "    \"company_secondary\",\n",
    "    'digital_business_transformation',\n",
    "    'business_model_customer_experience',\n",
    "    'collaboration_mobility_innovation_creativity', \n",
    "    'technology',\n",
    "    'startups'\n",
    "]]"
   ]
  },
  {
   "cell_type": "code",
   "execution_count": 4,
   "metadata": {},
   "outputs": [
    {
     "data": {
      "application/vnd.jupyter.widget-view+json": {
       "model_id": "d0a336a7d4c64fe4ac8f3f04394a45f1",
       "version_major": 2,
       "version_minor": 0
      },
      "text/plain": [
       "QgridWidget(grid_options={'fullWidthRows': True, 'syncColumnCellResize': True, 'forceFitColumns': True, 'defau…"
      ]
     },
     "metadata": {},
     "output_type": "display_data"
    }
   ],
   "source": [
    "qgrid_widget = qgrid.show_grid(\n",
    "    df, \n",
    "    show_toolbar=True, \n",
    "    grid_options={\n",
    "        'forceFitColumns': True, \n",
    "        \"rowHeight\": 200, \n",
    "        'enableColumnReorder': True, \n",
    "        \"highlightSelectedCell\": True\n",
    "    }, \n",
    "    column_options={'editable': False}\n",
    ")\n",
    "qgrid_widget"
   ]
  }
 ],
 "metadata": {
  "kernelspec": {
   "display_name": "skope-confare",
   "language": "python",
   "name": "skope-confare"
  },
  "language_info": {
   "codemirror_mode": {
    "name": "ipython",
    "version": 3
   },
   "file_extension": ".py",
   "mimetype": "text/x-python",
   "name": "python",
   "nbconvert_exporter": "python",
   "pygments_lexer": "ipython3",
   "version": "3.7.2"
  }
 },
 "nbformat": 4,
 "nbformat_minor": 2
}
